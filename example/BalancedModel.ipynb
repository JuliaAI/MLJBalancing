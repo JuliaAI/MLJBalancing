{
 "cells": [
  {
   "cell_type": "code",
   "execution_count": 1,
   "metadata": {},
   "outputs": [],
   "source": [
    "ENV[\"JULIA_PKG_SERVER\"] = \"\"\n",
    "using Pkg\n",
    "Pkg.activate(@__DIR__)\n",
    "Pkg.instantiate()\n",
    "\n",
    "using MLJ\n",
    "using MLJBalancing: BalancedModel\n",
    "using Imbalance\n",
    "using Random\n",
    "using DataFrames"
   ]
  },
  {
   "cell_type": "markdown",
   "metadata": {},
   "source": [
    "#### Load Some Data"
   ]
  },
  {
   "cell_type": "code",
   "execution_count": 2,
   "metadata": {},
   "outputs": [
    {
     "name": "stdout",
     "output_type": "stream",
     "text": [
      "0: ▇▇▇▇▇▇▇▇▇▇▇▇▇▇▇▇▇▇▇▇ 204 (40.9%) \n",
      "1: ▇▇▇▇▇▇▇▇▇▇▇▇▇▇▇▇▇▇▇▇▇▇▇▇▇▇▇▇▇▇ 297 (59.5%) \n",
      "2: ▇▇▇▇▇▇▇▇▇▇▇▇▇▇▇▇▇▇▇▇▇▇▇▇▇▇▇▇▇▇▇▇▇▇▇▇▇▇▇▇▇▇▇▇▇▇▇▇▇▇ 499 (100.0%) \n"
     ]
    }
   ],
   "source": [
    "X, y = Imbalance.generate_imbalanced_data(1000, 5; probs=[0.2, 0.3, 0.5])\n",
    "X = DataFrame(X)\n",
    "(X_train, X_test), (y_train, y_test) = partition((X, y), 0.8, rng=123, multi=true)\n",
    "Imbalance.checkbalance(y)"
   ]
  },
  {
   "cell_type": "markdown",
   "metadata": {},
   "source": [
    "#### Load Some Balancers"
   ]
  },
  {
   "cell_type": "code",
   "execution_count": 3,
   "metadata": {},
   "outputs": [
    {
     "data": {
      "text/plain": [
       "ROSE(\n",
       "  s = 1.0, \n",
       "  ratios = 1.3, \n",
       "  rng = 42, \n",
       "  try_perserve_type = true)"
      ]
     },
     "metadata": {},
     "output_type": "display_data"
    }
   ],
   "source": [
    "balancer1 = Imbalance.MLJ.RandomOversampler(ratios=1.0, rng=42)\n",
    "balancer2 = Imbalance.MLJ.SMOTENC(k=10, ratios=1.2, rng=42)\n",
    "balancer3 = Imbalance.MLJ.ROSE(ratios=1.3, rng=42)"
   ]
  },
  {
   "cell_type": "markdown",
   "metadata": {},
   "source": [
    "#### Load a Classification Model"
   ]
  },
  {
   "cell_type": "code",
   "execution_count": 4,
   "metadata": {},
   "outputs": [
    {
     "data": {
      "text/plain": [
       "LogisticClassifier(\n",
       "  lambda = 2.220446049250313e-16, \n",
       "  gamma = 0.0, \n",
       "  penalty = :l2, \n",
       "  fit_intercept = true, \n",
       "  penalize_intercept = false, \n",
       "  scale_penalty_with_samples = true, \n",
       "  solver = nothing)"
      ]
     },
     "metadata": {},
     "output_type": "display_data"
    }
   ],
   "source": [
    "LogisticClassifier = @load LogisticClassifier pkg=MLJLinearModels verbosity=0\n",
    "model_prob = LogisticClassifier()"
   ]
  },
  {
   "cell_type": "markdown",
   "metadata": {},
   "source": [
    "#### Wrap the Balancers and the Classification Model Together"
   ]
  },
  {
   "cell_type": "code",
   "execution_count": 5,
   "metadata": {},
   "outputs": [
    {
     "data": {
      "text/plain": [
       "BalancedModelProbabilistic(\n",
       "  model = LogisticClassifier(\n",
       "        lambda = 2.220446049250313e-16, \n",
       "        gamma = 0.0, \n",
       "        penalty = :l2, \n",
       "        fit_intercept = true, \n",
       "        penalize_intercept = false, \n",
       "        scale_penalty_with_samples = true, \n",
       "        solver = nothing), \n",
       "  balancer1 = RandomOversampler(\n",
       "        ratios = 1.0, \n",
       "        rng = 42, \n",
       "        try_perserve_type = true), \n",
       "  balancer2 = SMOTENC(\n",
       "        k = 10, \n",
       "        ratios = 1.2, \n",
       "        rng = 42, \n",
       "        try_perserve_type = true), \n",
       "  balancer3 = ROSE(\n",
       "        s = 1.0, \n",
       "        ratios = 1.3, \n",
       "        rng = 42, \n",
       "        try_perserve_type = true))"
      ]
     },
     "metadata": {},
     "output_type": "display_data"
    }
   ],
   "source": [
    "balanced_model = BalancedModel(model=model_prob, \n",
    "                               balancer1=balancer1, \n",
    "                               balancer2=balancer2, \n",
    "                               balancer3=balancer3)"
   ]
  },
  {
   "cell_type": "markdown",
   "metadata": {},
   "source": [
    "##### Now they behave as a single model!"
   ]
  },
  {
   "cell_type": "code",
   "execution_count": null,
   "metadata": {},
   "outputs": [],
   "source": [
    "mach = machine(balanced_model, X_train, y_train)\n",
    "fit!(mach)"
   ]
  },
  {
   "cell_type": "code",
   "execution_count": 11,
   "metadata": {},
   "outputs": [
    {
     "data": {
      "text/plain": [
       "200-element CategoricalDistributions.UnivariateFiniteVector{Multiclass{3}, Int64, UInt32, Float64}:\n",
       " UnivariateFinite{Multiclass{3}}(0=>0.359, 1=>0.295, 2=>0.346)\n",
       " UnivariateFinite{Multiclass{3}}(0=>0.384, 1=>0.294, 2=>0.322)\n",
       " UnivariateFinite{Multiclass{3}}(0=>0.301, 1=>0.395, 2=>0.304)\n",
       " UnivariateFinite{Multiclass{3}}(0=>0.285, 1=>0.369, 2=>0.346)\n",
       " UnivariateFinite{Multiclass{3}}(0=>0.279, 1=>0.39, 2=>0.331)\n",
       " UnivariateFinite{Multiclass{3}}(0=>0.31, 1=>0.34, 2=>0.35)\n",
       " UnivariateFinite{Multiclass{3}}(0=>0.292, 1=>0.392, 2=>0.316)\n",
       " UnivariateFinite{Multiclass{3}}(0=>0.331, 1=>0.351, 2=>0.318)\n",
       " UnivariateFinite{Multiclass{3}}(0=>0.303, 1=>0.35, 2=>0.347)\n",
       " UnivariateFinite{Multiclass{3}}(0=>0.311, 1=>0.351, 2=>0.338)\n",
       " ⋮\n",
       " UnivariateFinite{Multiclass{3}}(0=>0.319, 1=>0.354, 2=>0.326)\n",
       " UnivariateFinite{Multiclass{3}}(0=>0.375, 1=>0.291, 2=>0.334)\n",
       " UnivariateFinite{Multiclass{3}}(0=>0.345, 1=>0.329, 2=>0.326)\n",
       " UnivariateFinite{Multiclass{3}}(0=>0.312, 1=>0.343, 2=>0.345)\n",
       " UnivariateFinite{Multiclass{3}}(0=>0.358, 1=>0.308, 2=>0.333)\n",
       " UnivariateFinite{Multiclass{3}}(0=>0.307, 1=>0.344, 2=>0.349)\n",
       " UnivariateFinite{Multiclass{3}}(0=>0.297, 1=>0.36, 2=>0.343)\n",
       " UnivariateFinite{Multiclass{3}}(0=>0.358, 1=>0.312, 2=>0.33)\n",
       " UnivariateFinite{Multiclass{3}}(0=>0.355, 1=>0.309, 2=>0.336)"
      ]
     },
     "metadata": {},
     "output_type": "display_data"
    }
   ],
   "source": [
    "\n",
    "y_pred = predict(mach, X_test)"
   ]
  },
  {
   "cell_type": "markdown",
   "metadata": {},
   "source": [
    "#### You can even tune it if you wish"
   ]
  },
  {
   "cell_type": "code",
   "execution_count": null,
   "metadata": {},
   "outputs": [],
   "source": [
    "r1 = range(balanced_model, :(balancer1.ratios), lower=1.0, upper=1.4)\n",
    "r2 = range(balanced_model, :(balancer2.k), lower=3, upper=10)\n",
    "r3 = range(balanced_model, :(balancer3.s), lower=0.0, upper=0.3)\n",
    "\n",
    "tuned_balanced_model = TunedModel(model=balanced_model,\n",
    "\t\t\t\t\t\t\t\t\t  tuning=Grid(goal=4),\n",
    "\t\t\t\t\t\t\t\t\t  resampling=CV(nfolds=4),\n",
    "\t\t\t\t\t\t\t\t\t  range=[r1, r2, r3],\n",
    "\t\t\t\t\t\t\t\t\t  measure=cross_entropy);\n",
    "\n",
    "mach = machine(tuned_balanced_model, X, y);\n",
    "fit!(mach, verbosity=0);"
   ]
  },
  {
   "cell_type": "code",
   "execution_count": 10,
   "metadata": {},
   "outputs": [
    {
     "data": {
      "text/plain": [
       "BalancedModelProbabilistic(\n",
       "  model = LogisticClassifier(\n",
       "        lambda = 2.220446049250313e-16, \n",
       "        gamma = 0.0, \n",
       "        penalty = :l2, \n",
       "        fit_intercept = true, \n",
       "        penalize_intercept = false, \n",
       "        scale_penalty_with_samples = true, \n",
       "        solver = nothing), \n",
       "  balancer1 = RandomOversampler(\n",
       "        ratios = 1.4, \n",
       "        rng = 42, \n",
       "        try_perserve_type = true), \n",
       "  balancer2 = SMOTENC(\n",
       "        k = 10, \n",
       "        ratios = 1.2, \n",
       "        rng = 42, \n",
       "        try_perserve_type = true), \n",
       "  balancer3 = ROSE(\n",
       "        s = 0.0, \n",
       "        ratios = 1.3, \n",
       "        rng = 42, \n",
       "        try_perserve_type = true))"
      ]
     },
     "metadata": {},
     "output_type": "display_data"
    }
   ],
   "source": [
    "fitted_params(mach).best_model"
   ]
  }
 ],
 "metadata": {
  "kernelspec": {
   "display_name": "Julia 1.8.5",
   "language": "julia",
   "name": "julia-1.8"
  },
  "language_info": {
   "file_extension": ".jl",
   "mimetype": "application/julia",
   "name": "julia",
   "version": "1.8.5"
  },
  "orig_nbformat": 4
 },
 "nbformat": 4,
 "nbformat_minor": 2
}
