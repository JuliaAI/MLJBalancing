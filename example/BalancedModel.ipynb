{
 "cells": [
  {
   "cell_type": "code",
   "execution_count": 1,
   "metadata": {},
   "outputs": [
    {
     "name": "stderr",
     "output_type": "stream",
     "text": [
      "\u001b[32m\u001b[1m  Activating\u001b[22m\u001b[39m project at `~/Documents/GitHub/MLJBalancing/example`\n"
     ]
    }
   ],
   "source": [
    "ENV[\"JULIA_PKG_SERVER\"] = \"\"\n",
    "using Pkg\n",
    "Pkg.activate(@__DIR__)\n",
    "Pkg.instantiate()\n",
    "\n",
    "using MLJ\n",
    "using MLJBalancing: BalancedModel\n",
    "using Imbalance\n",
    "using Random\n",
    "using DataFrames"
   ]
  },
  {
   "cell_type": "markdown",
   "metadata": {},
   "source": [
    "#### Load Some Data"
   ]
  },
  {
   "cell_type": "code",
   "execution_count": 2,
   "metadata": {},
   "outputs": [
    {
     "name": "stdout",
     "output_type": "stream",
     "text": [
      "0: ▇▇▇▇▇▇▇▇▇▇▇▇▇▇▇▇▇▇▇ 189 (37.4%) \n",
      "1: ▇▇▇▇▇▇▇▇▇▇▇▇▇▇▇▇▇▇▇▇▇▇▇▇▇▇▇▇▇▇ 305 (60.3%) \n",
      "2: ▇▇▇▇▇▇▇▇▇▇▇▇▇▇▇▇▇▇▇▇▇▇▇▇▇▇▇▇▇▇▇▇▇▇▇▇▇▇▇▇▇▇▇▇▇▇▇▇▇▇ 506 (100.0%) \n"
     ]
    }
   ],
   "source": [
    "X, y = Imbalance.generate_imbalanced_data(1000, 5; class_probs=[0.2, 0.3, 0.5])\n",
    "X = DataFrame(X)\n",
    "(X_train, X_test), (y_train, y_test) = partition((X, y), 0.8, rng=123, multi=true)\n",
    "Imbalance.checkbalance(y)"
   ]
  },
  {
   "cell_type": "markdown",
   "metadata": {},
   "source": [
    "#### Load Some Balancers"
   ]
  },
  {
   "cell_type": "code",
   "execution_count": 3,
   "metadata": {},
   "outputs": [
    {
     "data": {
      "text/plain": [
       "ROSE(\n",
       "  s = 1.0, \n",
       "  ratios = 1.3, \n",
       "  rng = 42, \n",
       "  try_perserve_type = true)"
      ]
     },
     "metadata": {},
     "output_type": "display_data"
    }
   ],
   "source": [
    "balancer1 = Imbalance.MLJ.RandomOversampler(ratios=1.0, rng=42)\n",
    "balancer2 = Imbalance.MLJ.SMOTENC(k=10, ratios=1.2, rng=42)\n",
    "balancer3 = Imbalance.MLJ.ROSE(ratios=1.3, rng=42)"
   ]
  },
  {
   "cell_type": "markdown",
   "metadata": {},
   "source": [
    "#### Load a Classification Model"
   ]
  },
  {
   "cell_type": "code",
   "execution_count": 4,
   "metadata": {},
   "outputs": [
    {
     "data": {
      "text/plain": [
       "LogisticClassifier(\n",
       "  lambda = 2.220446049250313e-16, \n",
       "  gamma = 0.0, \n",
       "  penalty = :l2, \n",
       "  fit_intercept = true, \n",
       "  penalize_intercept = false, \n",
       "  scale_penalty_with_samples = true, \n",
       "  solver = nothing)"
      ]
     },
     "metadata": {},
     "output_type": "display_data"
    }
   ],
   "source": [
    "LogisticClassifier = @load LogisticClassifier pkg=MLJLinearModels verbosity=0\n",
    "model_prob = LogisticClassifier()"
   ]
  },
  {
   "cell_type": "markdown",
   "metadata": {},
   "source": [
    "#### Wrap the Balancers and the Classification Model Together"
   ]
  },
  {
   "cell_type": "code",
   "execution_count": 5,
   "metadata": {},
   "outputs": [
    {
     "data": {
      "text/plain": [
       "BalancedModelProbabilistic(\n",
       "  model = LogisticClassifier(\n",
       "        lambda = 2.220446049250313e-16, \n",
       "        gamma = 0.0, \n",
       "        penalty = :l2, \n",
       "        fit_intercept = true, \n",
       "        penalize_intercept = false, \n",
       "        scale_penalty_with_samples = true, \n",
       "        solver = nothing), \n",
       "  balancer1 = RandomOversampler(\n",
       "        ratios = 1.0, \n",
       "        rng = 42, \n",
       "        try_perserve_type = true), \n",
       "  balancer2 = SMOTENC(\n",
       "        k = 10, \n",
       "        ratios = 1.2, \n",
       "        knn_tree = \"Brute\", \n",
       "        rng = 42, \n",
       "        try_perserve_type = true), \n",
       "  balancer3 = ROSE(\n",
       "        s = 1.0, \n",
       "        ratios = 1.3, \n",
       "        rng = 42, \n",
       "        try_perserve_type = true))"
      ]
     },
     "metadata": {},
     "output_type": "display_data"
    }
   ],
   "source": [
    "balanced_model = BalancedModel(model=model_prob, \n",
    "                               balancer1=balancer1, \n",
    "                               balancer2=balancer2, \n",
    "                               balancer3=balancer3)"
   ]
  },
  {
   "cell_type": "markdown",
   "metadata": {},
   "source": [
    "##### Now they behave as a single model!"
   ]
  },
  {
   "cell_type": "code",
   "execution_count": 6,
   "metadata": {},
   "outputs": [
    {
     "name": "stderr",
     "output_type": "stream",
     "text": [
      "┌ Info: Training machine(BalancedModelProbabilistic(model = LogisticClassifier(lambda = 2.220446049250313e-16, …), …), …).\n",
      "└ @ MLJBase /Users/essam/.julia/packages/MLJBase/ByFwA/src/machines.jl:492\n"
     ]
    },
    {
     "name": "stderr",
     "output_type": "stream",
     "text": [
      "┌ Info: Training machine(ROSE(s = 1.0, …), …).\n",
      "└ @ MLJBase /Users/essam/.julia/packages/MLJBase/ByFwA/src/machines.jl:492\n",
      "┌ Info: Training machine(SMOTENC(k = 10, …), …).\n",
      "└ @ MLJBase /Users/essam/.julia/packages/MLJBase/ByFwA/src/machines.jl:492\n",
      "┌ Info: Training machine(RandomOversampler(ratios = 1.0, …), …).\n",
      "└ @ MLJBase /Users/essam/.julia/packages/MLJBase/ByFwA/src/machines.jl:492\n",
      "┌ Info: Training machine(:model, …).\n",
      "└ @ MLJBase /Users/essam/.julia/packages/MLJBase/ByFwA/src/machines.jl:492\n"
     ]
    },
    {
     "name": "stderr",
     "output_type": "stream",
     "text": [
      "\r\u001b[32mProgress:  67%|███████████████████████████▍             |  ETA: 0:00:00\u001b[39m\u001b[K\r\n",
      "\u001b[34m  class:  0\u001b[39m\u001b[K\r\u001b[A"
     ]
    },
    {
     "name": "stderr",
     "output_type": "stream",
     "text": [
      "\r\u001b[32mProgress:  67%|███████████████████████████▍             |  ETA: 0:00:01\u001b[39m\u001b[K\r\n",
      "\u001b[34m  class:  1\u001b[39m\u001b[K\r\u001b[A"
     ]
    },
    {
     "name": "stderr",
     "output_type": "stream",
     "text": [
      "\n",
      "\r\u001b[K\u001b[A\r\u001b[32mProgress: 100%|█████████████████████████████████████████| Time: 0:00:01\u001b[39m\u001b[K\r\n",
      "\u001b[34m  class:  0\u001b[39m\u001b[K\n"
     ]
    },
    {
     "name": "stderr",
     "output_type": "stream",
     "text": [
      "\r\u001b[32mProgress:  67%|███████████████████████████▍             |  ETA: 0:00:00\u001b[39m\u001b[K\r\n",
      "\u001b[34m  class:  1\u001b[39m\u001b[K\r\u001b[A"
     ]
    },
    {
     "name": "stderr",
     "output_type": "stream",
     "text": [
      "\n",
      "\r\u001b[K\u001b[A\r\u001b[32mProgress: 100%|█████████████████████████████████████████| Time: 0:00:00\u001b[39m\u001b[K\r\n",
      "\u001b[34m  class:  0\u001b[39m\u001b[K\n"
     ]
    },
    {
     "name": "stderr",
     "output_type": "stream",
     "text": [
      "\r\u001b[32mProgress:  67%|███████████████████████████▍             |  ETA: 0:00:00\u001b[39m\u001b[K\r\n",
      "\u001b[34m  class:  1\u001b[39m\u001b[K\r\u001b[A"
     ]
    },
    {
     "name": "stderr",
     "output_type": "stream",
     "text": [
      "\n",
      "\r\u001b[K\u001b[A\r\u001b[32mProgress: 100%|█████████████████████████████████████████| Time: 0:00:00\u001b[39m\u001b[K\r\n",
      "\u001b[34m  class:  0\u001b[39m\u001b[K\n"
     ]
    },
    {
     "name": "stderr",
     "output_type": "stream",
     "text": [
      "\r\u001b[32mProgress:  67%|███████████████████████████▍             |  ETA: 0:00:00\u001b[39m\u001b[K\r\n",
      "\u001b[34m  class:  1\u001b[39m\u001b[K\r\u001b[A"
     ]
    },
    {
     "name": "stderr",
     "output_type": "stream",
     "text": [
      "\n",
      "\r\u001b[K\u001b[A\r\u001b[32mProgress: 100%|█████████████████████████████████████████| Time: 0:00:00\u001b[39m\u001b[K\r\n",
      "\u001b[34m  class:  0\u001b[39m\u001b[K\n"
     ]
    },
    {
     "name": "stderr",
     "output_type": "stream",
     "text": [
      "\r\u001b[32mProgress:  67%|███████████████████████████▍             |  ETA: 0:00:00\u001b[39m\u001b[K\r\n",
      "\u001b[34m  class:  1\u001b[39m\u001b[K\r\u001b[A"
     ]
    },
    {
     "name": "stderr",
     "output_type": "stream",
     "text": [
      "\n",
      "\r\u001b[K\u001b[A\r\u001b[32mProgress: 100%|█████████████████████████████████████████| Time: 0:00:00\u001b[39m\u001b[K\r\n",
      "\u001b[34m  class:  0\u001b[39m\u001b[K\n"
     ]
    },
    {
     "name": "stderr",
     "output_type": "stream",
     "text": [
      "┌ Info: Solver: MLJLinearModels.LBFGS{Optim.Options{Float64, Nothing}, NamedTuple{(), Tuple{}}}\n",
      "│   optim_options: Optim.Options{Float64, Nothing}\n",
      "│   lbfgs_options: NamedTuple{(), Tuple{}} NamedTuple()\n",
      "└ @ MLJLinearModels /Users/essam/.julia/packages/MLJLinearModels/zSQnL/src/mlj/interface.jl:72\n"
     ]
    },
    {
     "data": {
      "text/plain": [
       "trained Machine; does not cache data\n",
       "  model: BalancedModelProbabilistic(model = LogisticClassifier(lambda = 2.220446049250313e-16, …), …)\n",
       "  args: \n",
       "    1:\tSource @226 ⏎ Table{AbstractVector{Continuous}}\n",
       "    2:\tSource @078 ⏎ AbstractVector{Multiclass{3}}\n"
      ]
     },
     "metadata": {},
     "output_type": "display_data"
    }
   ],
   "source": [
    "mach = machine(balanced_model, X_train, y_train)\n",
    "fit!(mach)"
   ]
  },
  {
   "cell_type": "code",
   "execution_count": 7,
   "metadata": {},
   "outputs": [
    {
     "data": {
      "text/plain": [
       "200-element CategoricalDistributions.UnivariateFiniteVector{Multiclass{3}, Int64, UInt32, Float64}:\n",
       " UnivariateFinite{Multiclass{3}}(0=>0.0, 1=>1.0, 2=>4.16e-270)\n",
       " UnivariateFinite{Multiclass{3}}(0=>0.0, 1=>1.2e-217, 2=>1.0)\n",
       " UnivariateFinite{Multiclass{3}}(0=>2.99e-304, 1=>1.0, 2=>1.19e-221)\n",
       " UnivariateFinite{Multiclass{3}}(0=>1.0, 1=>1.35e-179, 2=>2.0900000000000003e-267)\n",
       " UnivariateFinite{Multiclass{3}}(0=>0.0, 1=>1.36e-93, 2=>1.0)\n",
       " UnivariateFinite{Multiclass{3}}(0=>0.0, 1=>4.01e-71, 2=>1.0)\n",
       " UnivariateFinite{Multiclass{3}}(0=>1.16e-270, 1=>4.55e-103, 2=>1.0)\n",
       " UnivariateFinite{Multiclass{3}}(0=>1.0, 1=>1.0299999999999999e-198, 2=>0.0)\n",
       " UnivariateFinite{Multiclass{3}}(0=>1.0, 1=>2.2100000000000002e-73, 2=>1.45e-97)\n",
       " UnivariateFinite{Multiclass{3}}(0=>0.0, 1=>3.4900000000000003e-75, 2=>1.0)\n",
       " ⋮\n",
       " UnivariateFinite{Multiclass{3}}(0=>1.3699999999999999e-239, 1=>9.34e-140, 2=>1.0)\n",
       " UnivariateFinite{Multiclass{3}}(0=>0.0, 1=>1.0, 2=>2.3599999999999997e-256)\n",
       " UnivariateFinite{Multiclass{3}}(0=>3.03e-149, 1=>1.69e-109, 2=>1.0)\n",
       " UnivariateFinite{Multiclass{3}}(0=>0.0, 1=>1.0, 2=>3.3999999999999996e-242)\n",
       " UnivariateFinite{Multiclass{3}}(0=>8.889999999999998e-259, 1=>8.98e-152, 2=>1.0)\n",
       " UnivariateFinite{Multiclass{3}}(0=>1.5500000000000002e-235, 1=>7.45e-95, 2=>1.0)\n",
       " UnivariateFinite{Multiclass{3}}(0=>0.0, 1=>1.0, 2=>4.3e-232)\n",
       " UnivariateFinite{Multiclass{3}}(0=>0.0, 1=>2.31e-134, 2=>1.0)\n",
       " UnivariateFinite{Multiclass{3}}(0=>0.0, 1=>1.0, 2=>1.21e-194)"
      ]
     },
     "metadata": {},
     "output_type": "display_data"
    }
   ],
   "source": [
    "\n",
    "y_pred = predict(mach, X_test)"
   ]
  },
  {
   "cell_type": "markdown",
   "metadata": {},
   "source": [
    "#### You can even tune it if you wish"
   ]
  },
  {
   "cell_type": "code",
   "execution_count": null,
   "metadata": {},
   "outputs": [],
   "source": [
    "r1 = range(balanced_model, :(balancer1.ratios), lower=1.0, upper=1.4)\n",
    "r2 = range(balanced_model, :(balancer2.k), lower=3, upper=10)\n",
    "r3 = range(balanced_model, :(balancer3.s), lower=0.0, upper=0.3)\n",
    "\n",
    "tuned_balanced_model = TunedModel(model=balanced_model,\n",
    "\t\t\t\t\t\t\t\t\t  tuning=Grid(goal=4),\n",
    "\t\t\t\t\t\t\t\t\t  resampling=CV(nfolds=4),\n",
    "\t\t\t\t\t\t\t\t\t  range=[r1, r2, r3],\n",
    "\t\t\t\t\t\t\t\t\t  measure=cross_entropy);\n",
    "\n",
    "mach = machine(tuned_balanced_model, X, y);\n",
    "fit!(mach, verbosity=0);"
   ]
  },
  {
   "cell_type": "code",
   "execution_count": null,
   "metadata": {},
   "outputs": [],
   "source": [
    "fitted_params(mach).best_model"
   ]
  }
 ],
 "metadata": {
  "kernelspec": {
   "display_name": "Julia 1.8.5",
   "language": "julia",
   "name": "julia-1.8"
  },
  "language_info": {
   "file_extension": ".jl",
   "mimetype": "application/julia",
   "name": "julia",
   "version": "1.8.5"
  },
  "orig_nbformat": 4
 },
 "nbformat": 4,
 "nbformat_minor": 2
}
