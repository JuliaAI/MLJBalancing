{
 "cells": [
  {
   "cell_type": "code",
   "execution_count": 1,
   "metadata": {},
   "outputs": [
    {
     "name": "stderr",
     "output_type": "stream",
     "text": [
      "\u001b[32m\u001b[1m  Activating\u001b[22m\u001b[39m project at `~/Documents/GitHub/MLJBalancing/example`\n"
     ]
    }
   ],
   "source": [
    "ENV[\"JULIA_PKG_SERVER\"] = \"\"\n",
    "using Pkg\n",
    "Pkg.activate(@__DIR__)\n",
    "Pkg.instantiate()\n",
    "\n",
    "using MLJBalancing\n",
    "using Imbalance\n",
    "using MLJ\n",
    "using Random"
   ]
  },
  {
   "cell_type": "markdown",
   "metadata": {},
   "source": [
    "#### Load Data"
   ]
  },
  {
   "cell_type": "code",
   "execution_count": 2,
   "metadata": {},
   "outputs": [
    {
     "data": {
      "text/plain": [
       "((Column1 = [0.564, 0.862, 0.793, 0.505, 0.683, 0.699, 0.545, 0.693, 0.95, 0.44  …  0.423, 0.632, 0.922, 0.592, 0.944, 0.517, 0.785, 0.579, 0.725, 0.711], Column2 = [0.42, 0.715, 0.358, -0.009, 0.228, 0.725, 0.786, 0.52, 0.646, 0.582  …  0.65, 0.633, 0.263, 0.141, 0.472, 0.45, -0.019, 0.593, 0.777, 0.877], Column3 = [0.638, 0.719, 0.716, 0.604, 0.616, 0.784, 0.697, 0.711, 0.878, 0.739  …  0.722, 0.672, 0.879, 0.598, 0.879, 0.669, 0.728, 0.768, 0.736, 0.725], Column4 = [0.29, 0.164, 0.164, 0.262, 0.246, 0.211, 0.155, 0.03, 1.842, 0.324  …  0.192, 0.143, 1.323, 0.251, 1.084, 0.165, 0.138, 0.176, 0.155, 0.217], Column5 = [0.605, 0.287, 0.565, 0.121, 0.752, 0.317, 0.165, 0.497, 0.361, 0.293  …  0.726, 0.781, 0.694, 0.728, 0.692, 0.351, 0.089, 0.478, 0.067, -0.19], Column6 = [2.0, 1.0, 3.0, 1.0, 3.0, 1.0, 3.0, 2.0, 2.0, 3.0  …  1.0, 3.0, 2.0, 2.0, 3.0, 1.0, 2.0, 3.0, 1.0, 2.0], Column7 = [2.0, 2.0, 1.0, 2.0, 1.0, 1.0, 2.0, 2.0, 1.0, 2.0  …  1.0, 2.0, 1.0, 1.0, 1.0, 2.0, 1.0, 1.0, 1.0, 1.0]), CategoricalArrays.CategoricalValue{Int64, UInt32}[0, 0, 0, 0, 0, 0, 0, 0, 1, 0  …  0, 0, 1, 0, 1, 0, 0, 0, 0, 0])"
      ]
     },
     "metadata": {},
     "output_type": "display_data"
    }
   ],
   "source": [
    "X, y = generate_imbalanced_data(100, 5; num_vals_per_category = [3, 2], \n",
    "                                        class_probs = [0.9, 0.1], \n",
    "                                        type = \"ColTable\", \n",
    "                                        rng=42)"
   ]
  },
  {
   "cell_type": "markdown",
   "metadata": {},
   "source": [
    "#### Construct `BalancedBaggingClassifier` Model"
   ]
  },
  {
   "cell_type": "code",
   "execution_count": 3,
   "metadata": {},
   "outputs": [
    {
     "name": "stderr",
     "output_type": "stream",
     "text": [
      "WARNING: using StaticArrays.setindex in module FiniteDiff conflicts with an existing identifier.\n"
     ]
    },
    {
     "name": "stderr",
     "output_type": "stream",
     "text": [
      "┌ Warning: The call to compilecache failed to create a usable precompiled cache file for MLJLinearModels [6ee0df7b-362f-4a72-a706-9e79364fb692]\n",
      "│   exception = ErrorException(\"Required dependency Optim [429524aa-4258-5aef-a3af-852621145aeb] failed to load from a cache file.\")\n",
      "└ @ Base loading.jl:1349\n"
     ]
    },
    {
     "data": {
      "text/plain": [
       "BalancedBaggingClassifier(\n",
       "  model = LogisticClassifier(\n",
       "        lambda = 2.220446049250313e-16, \n",
       "        gamma = 0.0, \n",
       "        penalty = :l2, \n",
       "        fit_intercept = true, \n",
       "        penalize_intercept = false, \n",
       "        scale_penalty_with_samples = true, \n",
       "        solver = nothing), \n",
       "  T = 10, \n",
       "  rng = Xoshiro(0xa379de7eeeb2a4e8, 0x953dccb6b532b3af, 0xf597b8ff8cfd652a, 0xccd7337c571680d1))"
      ]
     },
     "metadata": {},
     "output_type": "display_data"
    }
   ],
   "source": [
    "LogisticClassifier = @load LogisticClassifier pkg=MLJLinearModels verbosity=0\n",
    "logistic_model = LogisticClassifier()\n",
    "model = BalancedBaggingClassifier(model=logistic_model, T=10, rng=Random.Xoshiro(42))"
   ]
  },
  {
   "cell_type": "markdown",
   "metadata": {},
   "source": [
    "#### Train & Evaluate the Model"
   ]
  },
  {
   "cell_type": "code",
   "execution_count": 4,
   "metadata": {},
   "outputs": [
    {
     "name": "stderr",
     "output_type": "stream",
     "text": [
      "┌ Info: Training machine(LogisticClassifier(lambda = 2.220446049250313e-16, …), …).\n",
      "└ @ MLJBase /Users/essam/.julia/packages/MLJBase/ByFwA/src/machines.jl:492\n",
      "┌ Info: Solver: MLJLinearModels.LBFGS{Optim.Options{Float64, Nothing}, NamedTuple{(), Tuple{}}}\n",
      "│   optim_options: Optim.Options{Float64, Nothing}\n",
      "│   lbfgs_options: NamedTuple{(), Tuple{}} NamedTuple()\n",
      "└ @ MLJLinearModels /Users/essam/.julia/packages/MLJLinearModels/zSQnL/src/mlj/interface.jl:72\n"
     ]
    },
    {
     "data": {
      "text/plain": [
       "100-element CategoricalDistributions.UnivariateFiniteVector{Multiclass{2}, Int64, UInt32, Float64}:\n",
       " UnivariateFinite{Multiclass{2}}(0=>1.0, 1=>0.0)\n",
       " UnivariateFinite{Multiclass{2}}(0=>1.0, 1=>0.0)\n",
       " UnivariateFinite{Multiclass{2}}(0=>1.0, 1=>0.0)\n",
       " UnivariateFinite{Multiclass{2}}(0=>1.0, 1=>0.0)\n",
       " UnivariateFinite{Multiclass{2}}(0=>1.0, 1=>0.0)\n",
       " UnivariateFinite{Multiclass{2}}(0=>1.0, 1=>0.0)\n",
       " UnivariateFinite{Multiclass{2}}(0=>1.0, 1=>0.0)\n",
       " UnivariateFinite{Multiclass{2}}(0=>1.0, 1=>0.0)\n",
       " UnivariateFinite{Multiclass{2}}(0=>0.0, 1=>1.0)\n",
       " UnivariateFinite{Multiclass{2}}(0=>1.0, 1=>0.0)\n",
       " ⋮\n",
       " UnivariateFinite{Multiclass{2}}(0=>1.0, 1=>0.0)\n",
       " UnivariateFinite{Multiclass{2}}(0=>0.0, 1=>1.0)\n",
       " UnivariateFinite{Multiclass{2}}(0=>1.0, 1=>0.0)\n",
       " UnivariateFinite{Multiclass{2}}(0=>0.0, 1=>1.0)\n",
       " UnivariateFinite{Multiclass{2}}(0=>1.0, 1=>0.0)\n",
       " UnivariateFinite{Multiclass{2}}(0=>1.0, 1=>0.0)\n",
       " UnivariateFinite{Multiclass{2}}(0=>1.0, 1=>0.0)\n",
       " UnivariateFinite{Multiclass{2}}(0=>1.0, 1=>0.0)\n",
       " UnivariateFinite{Multiclass{2}}(0=>1.0, 1=>0.0)"
      ]
     },
     "metadata": {},
     "output_type": "display_data"
    }
   ],
   "source": [
    "mach = machine(logistic_model, X, y)\n",
    "fit!(mach)\n",
    "pred = predict(mach, X)"
   ]
  }
 ],
 "metadata": {
  "kernelspec": {
   "display_name": "Julia 1.8.5",
   "language": "julia",
   "name": "julia-1.8"
  },
  "language_info": {
   "file_extension": ".jl",
   "mimetype": "application/julia",
   "name": "julia",
   "version": "1.8.5"
  },
  "orig_nbformat": 4
 },
 "nbformat": 4,
 "nbformat_minor": 2
}
