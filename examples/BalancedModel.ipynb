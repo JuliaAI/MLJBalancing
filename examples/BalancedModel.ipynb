{
 "cells": [
  {
   "cell_type": "code",
   "execution_count": 1,
   "metadata": {},
   "outputs": [],
   "source": [
    "using Pkg\n",
    "Pkg.activate(@__DIR__)\n",
    "Pkg.instantiate()\n",
    "\n",
    "using MLJ\n",
    "using MLJBalancing\n",
    "using Imbalance\n",
    "using Random\n",
    "using DataFrames"
   ]
  },
  {
   "cell_type": "markdown",
   "metadata": {},
   "source": [
    "#### Load Some Data"
   ]
  },
  {
   "cell_type": "code",
   "execution_count": 2,
   "metadata": {},
   "outputs": [
    {
     "name": "stdout",
     "output_type": "stream",
     "text": [
      "0: ▇▇▇▇▇▇▇▇▇▇▇▇▇▇▇▇▇▇▇▇ 204 (39.8%) \n",
      "1: ▇▇▇▇▇▇▇▇▇▇▇▇▇▇▇▇▇▇▇▇▇▇▇▇▇▇▇▇ 283 (55.2%) \n",
      "2: ▇▇▇▇▇▇▇▇▇▇▇▇▇▇▇▇▇▇▇▇▇▇▇▇▇▇▇▇▇▇▇▇▇▇▇▇▇▇▇▇▇▇▇▇▇▇▇▇▇▇ 513 (100.0%) \n"
     ]
    }
   ],
   "source": [
    "X, y = Imbalance.generate_imbalanced_data(1000, 5; probs=[0.2, 0.3, 0.5])\n",
    "X = DataFrame(X)\n",
    "train_inds, test_inds = partition(eachindex(y), 0.8, shuffle=true, stratify=y, rng=Random.Xoshiro(42))\n",
    "X_train, X_test = X[train_inds, :], X[test_inds, :]\n",
    "y_train, y_test = y[train_inds], y[test_inds]\n",
    "Imbalance.checkbalance(y)"
   ]
  },
  {
   "cell_type": "markdown",
   "metadata": {},
   "source": [
    "#### Load Some Balancers"
   ]
  },
  {
   "cell_type": "code",
   "execution_count": 3,
   "metadata": {},
   "outputs": [
    {
     "data": {
      "text/plain": [
       "ROSE(\n",
       "  s = 1.0, \n",
       "  ratios = 1.3, \n",
       "  rng = 42, \n",
       "  try_perserve_type = true)"
      ]
     },
     "metadata": {},
     "output_type": "display_data"
    }
   ],
   "source": [
    "balancer1 = Imbalance.MLJ.RandomOversampler(ratios=1.0, rng=42)\n",
    "balancer2 = Imbalance.MLJ.SMOTENC(k=10, ratios=1.2, rng=42)\n",
    "balancer3 = Imbalance.MLJ.ROSE(ratios=1.3, rng=42)"
   ]
  },
  {
   "cell_type": "markdown",
   "metadata": {},
   "source": [
    "#### Load a Classification Model"
   ]
  },
  {
   "cell_type": "code",
   "execution_count": 4,
   "metadata": {},
   "outputs": [
    {
     "data": {
      "text/plain": [
       "LogisticClassifier(\n",
       "  lambda = 2.220446049250313e-16, \n",
       "  gamma = 0.0, \n",
       "  penalty = :l2, \n",
       "  fit_intercept = true, \n",
       "  penalize_intercept = false, \n",
       "  scale_penalty_with_samples = true, \n",
       "  solver = nothing)"
      ]
     },
     "metadata": {},
     "output_type": "display_data"
    }
   ],
   "source": [
    "LogisticClassifier = @load LogisticClassifier pkg=MLJLinearModels verbosity=0\n",
    "model_prob = LogisticClassifier()"
   ]
  },
  {
   "cell_type": "markdown",
   "metadata": {},
   "source": [
    "#### Wrap the Balancers and the Classification Model Together"
   ]
  },
  {
   "cell_type": "code",
   "execution_count": 5,
   "metadata": {},
   "outputs": [
    {
     "name": "stdout",
     "output_type": "stream",
     "text": [
      "Probabilistic\n"
     ]
    },
    {
     "data": {
      "text/plain": [
       "BalancedModelProbabilistic(\n",
       "  model = LogisticClassifier(\n",
       "        lambda = 2.220446049250313e-16, \n",
       "        gamma = 0.0, \n",
       "        penalty = :l2, \n",
       "        fit_intercept = true, \n",
       "        penalize_intercept = false, \n",
       "        scale_penalty_with_samples = true, \n",
       "        solver = nothing), \n",
       "  balancer1 = RandomOversampler(\n",
       "        ratios = 1.0, \n",
       "        rng = 42, \n",
       "        try_perserve_type = true), \n",
       "  balancer2 = SMOTENC(\n",
       "        k = 10, \n",
       "        ratios = 1.2, \n",
       "        rng = 42, \n",
       "        try_perserve_type = true), \n",
       "  balancer3 = ROSE(\n",
       "        s = 1.0, \n",
       "        ratios = 1.3, \n",
       "        rng = 42, \n",
       "        try_perserve_type = true))"
      ]
     },
     "metadata": {},
     "output_type": "display_data"
    }
   ],
   "source": [
    "balanced_model = BalancedModel(model=model_prob, balancer1=balancer1, balancer2=balancer2, balancer3=balancer3)"
   ]
  },
  {
   "cell_type": "markdown",
   "metadata": {},
   "source": [
    "##### Now they behave as a single model!"
   ]
  },
  {
   "cell_type": "code",
   "execution_count": 8,
   "metadata": {},
   "outputs": [
    {
     "name": "stderr",
     "output_type": "stream",
     "text": [
      "┌ Info: Training machine(BalancedModelProbabilistic(model = LogisticClassifier(lambda = 2.220446049250313e-16, …), …), …).\n",
      "└ @ MLJBase /Users/essam/.julia/packages/MLJBase/ByFwA/src/machines.jl:492\n",
      "┌ Info: Training machine(ROSE(s = 1.0, …), …).\n",
      "└ @ MLJBase /Users/essam/.julia/packages/MLJBase/ByFwA/src/machines.jl:492\n",
      "┌ Info: Training machine(SMOTENC(k = 10, …), …).\n",
      "└ @ MLJBase /Users/essam/.julia/packages/MLJBase/ByFwA/src/machines.jl:492\n",
      "┌ Info: Training machine(RandomOversampler(ratios = 1.0, …), …).\n",
      "└ @ MLJBase /Users/essam/.julia/packages/MLJBase/ByFwA/src/machines.jl:492\n",
      "┌ Info: Training machine(:model, …).\n",
      "└ @ MLJBase /Users/essam/.julia/packages/MLJBase/ByFwA/src/machines.jl:492\n"
     ]
    },
    {
     "name": "stderr",
     "output_type": "stream",
     "text": [
      "\r\u001b[32mProgress:  67%|███████████████████████████▍             |  ETA: 0:00:00\u001b[39m\u001b[K\r\n",
      "\u001b[34m  class:  2\u001b[39m\u001b[K\r\u001b[A"
     ]
    },
    {
     "name": "stderr",
     "output_type": "stream",
     "text": [
      "\n",
      "\r\u001b[K\u001b[A\r\u001b[32mProgress: 100%|█████████████████████████████████████████| Time: 0:00:00\u001b[39m\u001b[K\r\n",
      "\u001b[34m  class:  1\u001b[39m\u001b[K\n"
     ]
    },
    {
     "name": "stderr",
     "output_type": "stream",
     "text": [
      "\r\u001b[32mProgress:  67%|███████████████████████████▍             |  ETA: 0:00:00\u001b[39m\u001b[K\r\n",
      "\u001b[34m  class:  2\u001b[39m\u001b[K\r\u001b[A"
     ]
    },
    {
     "name": "stderr",
     "output_type": "stream",
     "text": [
      "\n",
      "\r\u001b[K\u001b[A\r\u001b[32mProgress: 100%|█████████████████████████████████████████| Time: 0:00:00\u001b[39m\u001b[K\r\n",
      "\u001b[34m  class:  1\u001b[39m\u001b[K\n"
     ]
    },
    {
     "name": "stderr",
     "output_type": "stream",
     "text": [
      "\r\u001b[32mProgress:  67%|███████████████████████████▍             |  ETA: 0:00:00\u001b[39m\u001b[K\r\n",
      "\u001b[34m  class:  2\u001b[39m\u001b[K\r\u001b[A"
     ]
    },
    {
     "name": "stderr",
     "output_type": "stream",
     "text": [
      "\n",
      "\r\u001b[K\u001b[A\r\u001b[32mProgress: 100%|█████████████████████████████████████████| Time: 0:00:00\u001b[39m\u001b[K\r\n",
      "\u001b[34m  class:  1\u001b[39m\u001b[K\n"
     ]
    },
    {
     "name": "stderr",
     "output_type": "stream",
     "text": [
      "\r\u001b[32mProgress:  67%|███████████████████████████▍             |  ETA: 0:00:00\u001b[39m\u001b[K\r\n",
      "\u001b[34m  class:  2\u001b[39m\u001b[K\r\u001b[A"
     ]
    },
    {
     "name": "stderr",
     "output_type": "stream",
     "text": [
      "\n",
      "\r\u001b[K\u001b[A\r\u001b[32mProgress: 100%|█████████████████████████████████████████| Time: 0:00:00\u001b[39m\u001b[K\r\n",
      "\u001b[34m  class:  1\u001b[39m\u001b[K\n"
     ]
    },
    {
     "name": "stderr",
     "output_type": "stream",
     "text": [
      "┌ Info: Solver: MLJLinearModels.LBFGS{Optim.Options{Float64, Nothing}, NamedTuple{(), Tuple{}}}\n",
      "│   optim_options: Optim.Options{Float64, Nothing}\n",
      "│   lbfgs_options: NamedTuple{(), Tuple{}} NamedTuple()\n",
      "└ @ MLJLinearModels /Users/essam/.julia/packages/MLJLinearModels/zSQnL/src/mlj/interface.jl:72\n"
     ]
    },
    {
     "data": {
      "text/plain": [
       "201-element CategoricalDistributions.UnivariateFiniteVector{Multiclass{3}, Int64, UInt32, Float64}:\n",
       " UnivariateFinite{Multiclass{3}}(0=>0.322, 1=>0.378, 2=>0.3)\n",
       " UnivariateFinite{Multiclass{3}}(0=>0.312, 1=>0.414, 2=>0.274)\n",
       " UnivariateFinite{Multiclass{3}}(0=>0.336, 1=>0.352, 2=>0.312)\n",
       " UnivariateFinite{Multiclass{3}}(0=>0.315, 1=>0.383, 2=>0.302)\n",
       " UnivariateFinite{Multiclass{3}}(0=>0.345, 1=>0.272, 2=>0.383)\n",
       " UnivariateFinite{Multiclass{3}}(0=>0.333, 1=>0.286, 2=>0.38)\n",
       " UnivariateFinite{Multiclass{3}}(0=>0.309, 1=>0.347, 2=>0.344)\n",
       " UnivariateFinite{Multiclass{3}}(0=>0.312, 1=>0.362, 2=>0.326)\n",
       " UnivariateFinite{Multiclass{3}}(0=>0.358, 1=>0.265, 2=>0.378)\n",
       " UnivariateFinite{Multiclass{3}}(0=>0.347, 1=>0.313, 2=>0.34)\n",
       " ⋮\n",
       " UnivariateFinite{Multiclass{3}}(0=>0.323, 1=>0.37, 2=>0.307)\n",
       " UnivariateFinite{Multiclass{3}}(0=>0.332, 1=>0.345, 2=>0.323)\n",
       " UnivariateFinite{Multiclass{3}}(0=>0.347, 1=>0.307, 2=>0.346)\n",
       " UnivariateFinite{Multiclass{3}}(0=>0.348, 1=>0.272, 2=>0.38)\n",
       " UnivariateFinite{Multiclass{3}}(0=>0.363, 1=>0.287, 2=>0.35)\n",
       " UnivariateFinite{Multiclass{3}}(0=>0.355, 1=>0.233, 2=>0.412)\n",
       " UnivariateFinite{Multiclass{3}}(0=>0.324, 1=>0.337, 2=>0.339)\n",
       " UnivariateFinite{Multiclass{3}}(0=>0.338, 1=>0.372, 2=>0.291)\n",
       " UnivariateFinite{Multiclass{3}}(0=>0.336, 1=>0.388, 2=>0.276)"
      ]
     },
     "metadata": {},
     "output_type": "display_data"
    }
   ],
   "source": [
    "mach = machine(balanced_model, X_train, y_train)\n",
    "fit!(mach)\n",
    "y_pred = predict(mach, X_test)"
   ]
  },
  {
   "cell_type": "markdown",
   "metadata": {},
   "source": [
    "#### You can even tune it if you wish"
   ]
  },
  {
   "cell_type": "code",
   "execution_count": null,
   "metadata": {},
   "outputs": [],
   "source": [
    "r1 = range(balanced_model, :(balancer1.ratios), lower=0.8, upper=1.0)\n",
    "r2 = range(balanced_model, :(balancer2.k), lower=3, upper=10)\n",
    "r3 = range(balanced_model, :(balancer3.s), lower=0.0, upper=0.5)\n",
    "\n",
    "tuned_balanced_model = TunedModel(model=balanced_model,\n",
    "\t\t\t\t\t\t\t\t\t  tuning=Grid(goal=4),\n",
    "\t\t\t\t\t\t\t\t\t  resampling=CV(nfolds=4),\n",
    "\t\t\t\t\t\t\t\t\t  range=[r1, r2, r3],\n",
    "\t\t\t\t\t\t\t\t\t  measure=cross_entropy);\n",
    "\n",
    "mach = machine(tuned_balanced_model, X, y);\n",
    "fit!(mach, verbosity=0);"
   ]
  },
  {
   "cell_type": "code",
   "execution_count": 12,
   "metadata": {},
   "outputs": [
    {
     "data": {
      "text/plain": [
       "BalancedModelProbabilistic(\n",
       "  model = LogisticClassifier(\n",
       "        lambda = 2.220446049250313e-16, \n",
       "        gamma = 0.0, \n",
       "        penalty = :l2, \n",
       "        fit_intercept = true, \n",
       "        penalize_intercept = false, \n",
       "        scale_penalty_with_samples = true, \n",
       "        solver = nothing), \n",
       "  balancer1 = RandomOversampler(\n",
       "        ratios = 0.8, \n",
       "        rng = 42, \n",
       "        try_perserve_type = true), \n",
       "  balancer2 = SMOTENC(\n",
       "        k = 3, \n",
       "        ratios = 1.2, \n",
       "        rng = 42, \n",
       "        try_perserve_type = true), \n",
       "  balancer3 = ROSE(\n",
       "        s = 0.0, \n",
       "        ratios = 1.3, \n",
       "        rng = 42, \n",
       "        try_perserve_type = true))"
      ]
     },
     "metadata": {},
     "output_type": "display_data"
    }
   ],
   "source": [
    "fitted_params(mach).best_model"
   ]
  }
 ],
 "metadata": {
  "kernelspec": {
   "display_name": "Julia 1.8.5",
   "language": "julia",
   "name": "julia-1.8"
  },
  "language_info": {
   "file_extension": ".jl",
   "mimetype": "application/julia",
   "name": "julia",
   "version": "1.8.5"
  },
  "orig_nbformat": 4
 },
 "nbformat": 4,
 "nbformat_minor": 2
}
