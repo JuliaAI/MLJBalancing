{
 "cells": [
  {
   "cell_type": "code",
   "execution_count": 1,
   "metadata": {},
   "outputs": [
    {
     "name": "stderr",
     "output_type": "stream",
     "text": [
      "\u001b[32m\u001b[1m  Activating\u001b[22m\u001b[39m project at `~/Documents/GitHub/MLJBalancing`\n"
     ]
    },
    {
     "name": "stderr",
     "output_type": "stream",
     "text": [
      "┌ Warning: The project dependencies or compat requirements have changed since the manifest was last resolved.\n",
      "│ It is recommended to `Pkg.resolve()` or consider `Pkg.update()` if necessary.\n",
      "└ @ Pkg.API /Users/julia/.julia/scratchspaces/a66863c6-20e8-4ff4-8a62-49f30b1f605e/agent-cache/default-macmini-aarch64-4.0/build/default-macmini-aarch64-4-0/julialang/julia-release-1-dot-8/usr/share/julia/stdlib/v1.8/Pkg/src/API.jl:1535\n"
     ]
    }
   ],
   "source": [
    "ENV[\"JULIA_PKG_SERVER\"] = \"\"\n",
    "using Pkg\n",
    "Pkg.activate(@__DIR__)\n",
    "Pkg.instantiate()\n",
    "\n",
    "using MLJ\n",
    "using MLJBalancing: BalancedModel\n",
    "using Imbalance\n",
    "using Random\n",
    "using DataFrames"
   ]
  },
  {
   "cell_type": "markdown",
   "metadata": {},
   "source": [
    "#### Load Some Data"
   ]
  },
  {
   "cell_type": "code",
   "execution_count": 2,
   "metadata": {},
   "outputs": [
    {
     "name": "stdout",
     "output_type": "stream",
     "text": [
      "0: ▇▇▇▇▇▇▇▇▇▇▇▇▇▇▇▇▇▇▇▇ 200 (39.5%) \n",
      "1: ▇▇▇▇▇▇▇▇▇▇▇▇▇▇▇▇▇▇▇▇▇▇▇▇▇▇▇▇▇ 294 (58.1%) \n",
      "2: ▇▇▇▇▇▇▇▇▇▇▇▇▇▇▇▇▇▇▇▇▇▇▇▇▇▇▇▇▇▇▇▇▇▇▇▇▇▇▇▇▇▇▇▇▇▇▇▇▇▇ 506 (100.0%) \n"
     ]
    }
   ],
   "source": [
    "X, y = Imbalance.generate_imbalanced_data(1000, 5; probs=[0.2, 0.3, 0.5])\n",
    "X = DataFrame(X)\n",
    "(X_train, X_test), (y_train, y_test) = partition((X, y), 0.8, rng=123, multi=true)\n",
    "Imbalance.checkbalance(y)"
   ]
  },
  {
   "cell_type": "markdown",
   "metadata": {},
   "source": [
    "#### Load Some Balancers"
   ]
  },
  {
   "cell_type": "code",
   "execution_count": 3,
   "metadata": {},
   "outputs": [
    {
     "data": {
      "text/plain": [
       "ROSE(\n",
       "  s = 1.0, \n",
       "  ratios = 1.3, \n",
       "  rng = 42, \n",
       "  try_perserve_type = true)"
      ]
     },
     "metadata": {},
     "output_type": "display_data"
    }
   ],
   "source": [
    "balancer1 = Imbalance.MLJ.RandomOversampler(ratios=1.0, rng=42)\n",
    "balancer2 = Imbalance.MLJ.SMOTENC(k=10, ratios=1.2, rng=42)\n",
    "balancer3 = Imbalance.MLJ.ROSE(ratios=1.3, rng=42)"
   ]
  },
  {
   "cell_type": "markdown",
   "metadata": {},
   "source": [
    "#### Load a Classification Model"
   ]
  },
  {
   "cell_type": "code",
   "execution_count": 4,
   "metadata": {},
   "outputs": [
    {
     "data": {
      "text/plain": [
       "LogisticClassifier(\n",
       "  lambda = 2.220446049250313e-16, \n",
       "  gamma = 0.0, \n",
       "  penalty = :l2, \n",
       "  fit_intercept = true, \n",
       "  penalize_intercept = false, \n",
       "  scale_penalty_with_samples = true, \n",
       "  solver = nothing)"
      ]
     },
     "metadata": {},
     "output_type": "display_data"
    }
   ],
   "source": [
    "LogisticClassifier = @load LogisticClassifier pkg=MLJLinearModels verbosity=0\n",
    "model_prob = LogisticClassifier()"
   ]
  },
  {
   "cell_type": "markdown",
   "metadata": {},
   "source": [
    "#### Wrap the Balancers and the Classification Model Together"
   ]
  },
  {
   "cell_type": "code",
   "execution_count": 6,
   "metadata": {},
   "outputs": [
    {
     "data": {
      "text/plain": [
       "BalancedModelProbabilistic(\n",
       "  model = LogisticClassifier(\n",
       "        lambda = 2.220446049250313e-16, \n",
       "        gamma = 0.0, \n",
       "        penalty = :l2, \n",
       "        fit_intercept = true, \n",
       "        penalize_intercept = false, \n",
       "        scale_penalty_with_samples = true, \n",
       "        solver = nothing), \n",
       "  balancer1 = RandomOversampler(\n",
       "        ratios = 1.0, \n",
       "        rng = 42, \n",
       "        try_perserve_type = true), \n",
       "  balancer2 = SMOTENC(\n",
       "        k = 10, \n",
       "        ratios = 1.2, \n",
       "        rng = 42, \n",
       "        try_perserve_type = true), \n",
       "  balancer3 = ROSE(\n",
       "        s = 1.0, \n",
       "        ratios = 1.3, \n",
       "        rng = 42, \n",
       "        try_perserve_type = true))"
      ]
     },
     "metadata": {},
     "output_type": "display_data"
    }
   ],
   "source": [
    "balanced_model = BalancedModel(model=model_prob, \n",
    "                               balancer1=balancer1, \n",
    "                               balancer2=balancer2, \n",
    "                               balancer3=balancer3)"
   ]
  },
  {
   "cell_type": "markdown",
   "metadata": {},
   "source": [
    "##### Now they behave as a single model!"
   ]
  },
  {
   "cell_type": "code",
   "execution_count": 7,
   "metadata": {},
   "outputs": [
    {
     "name": "stderr",
     "output_type": "stream",
     "text": [
      "┌ Info: Training machine(BalancedModelProbabilistic(model = LogisticClassifier(lambda = 2.220446049250313e-16, …), …), …).\n",
      "└ @ MLJBase /Users/essam/.julia/packages/MLJBase/ByFwA/src/machines.jl:492\n"
     ]
    },
    {
     "name": "stderr",
     "output_type": "stream",
     "text": [
      "┌ Info: Training machine(ROSE(s = 1.0, …), …).\n",
      "└ @ MLJBase /Users/essam/.julia/packages/MLJBase/ByFwA/src/machines.jl:492\n",
      "┌ Info: Training machine(SMOTENC(k = 10, …), …).\n",
      "└ @ MLJBase /Users/essam/.julia/packages/MLJBase/ByFwA/src/machines.jl:492\n",
      "┌ Info: Training machine(RandomOversampler(ratios = 1.0, …), …).\n",
      "└ @ MLJBase /Users/essam/.julia/packages/MLJBase/ByFwA/src/machines.jl:492\n",
      "┌ Info: Training machine(:model, …).\n",
      "└ @ MLJBase /Users/essam/.julia/packages/MLJBase/ByFwA/src/machines.jl:492\n"
     ]
    },
    {
     "name": "stderr",
     "output_type": "stream",
     "text": [
      "\r\u001b[32mProgress:  67%|███████████████████████████▍             |  ETA: 0:00:00\u001b[39m\u001b[K\r\n",
      "\u001b[34m  class:  0\u001b[39m\u001b[K\r\u001b[A"
     ]
    },
    {
     "name": "stderr",
     "output_type": "stream",
     "text": [
      "\r\u001b[32mProgress:  67%|███████████████████████████▍             |  ETA: 0:00:02\u001b[39m\u001b[K\r\n",
      "\u001b[34m  class:  2\u001b[39m\u001b[K\r\u001b[A"
     ]
    },
    {
     "name": "stderr",
     "output_type": "stream",
     "text": [
      "\n",
      "\r\u001b[K\u001b[A\r\u001b[32mProgress: 100%|█████████████████████████████████████████| Time: 0:00:03\u001b[39m\u001b[K\r\n",
      "\u001b[34m  class:  0\u001b[39m\u001b[K\n"
     ]
    },
    {
     "name": "stderr",
     "output_type": "stream",
     "text": [
      "\r\u001b[32mProgress:  67%|███████████████████████████▍             |  ETA: 0:00:00\u001b[39m\u001b[K\r\n",
      "\u001b[34m  class:  2\u001b[39m\u001b[K\r\u001b[A"
     ]
    },
    {
     "name": "stderr",
     "output_type": "stream",
     "text": [
      "\n",
      "\r\u001b[K\u001b[A\r\u001b[32mProgress: 100%|█████████████████████████████████████████| Time: 0:00:00\u001b[39m\u001b[K\r\n",
      "\u001b[34m  class:  0\u001b[39m\u001b[K\n"
     ]
    },
    {
     "name": "stderr",
     "output_type": "stream",
     "text": [
      "\r\u001b[32mProgress:  67%|███████████████████████████▍             |  ETA: 0:00:00\u001b[39m\u001b[K\r\n",
      "\u001b[34m  class:  2\u001b[39m\u001b[K\r\u001b[A"
     ]
    },
    {
     "name": "stderr",
     "output_type": "stream",
     "text": [
      "\n",
      "\r\u001b[K\u001b[A\r\u001b[32mProgress: 100%|█████████████████████████████████████████| Time: 0:00:00\u001b[39m\u001b[K\r\n",
      "\u001b[34m  class:  0\u001b[39m\u001b[K\n"
     ]
    },
    {
     "name": "stderr",
     "output_type": "stream",
     "text": [
      "\r\u001b[32mProgress:  67%|███████████████████████████▍             |  ETA: 0:00:00\u001b[39m\u001b[K\r\n",
      "\u001b[34m  class:  2\u001b[39m\u001b[K\r\u001b[A"
     ]
    },
    {
     "name": "stderr",
     "output_type": "stream",
     "text": [
      "\n",
      "\r\u001b[K\u001b[A\r\u001b[32mProgress: 100%|█████████████████████████████████████████| Time: 0:00:00\u001b[39m\u001b[K\r\n",
      "\u001b[34m  class:  0\u001b[39m\u001b[K\n"
     ]
    },
    {
     "name": "stderr",
     "output_type": "stream",
     "text": [
      "\r\u001b[32mProgress:  67%|███████████████████████████▍             |  ETA: 0:00:00\u001b[39m\u001b[K\r\n",
      "\u001b[34m  class:  2\u001b[39m\u001b[K\r\u001b[A"
     ]
    },
    {
     "name": "stderr",
     "output_type": "stream",
     "text": [
      "\n",
      "\r\u001b[K\u001b[A\r\u001b[32mProgress: 100%|█████████████████████████████████████████| Time: 0:00:00\u001b[39m\u001b[K\r\n",
      "\u001b[34m  class:  0\u001b[39m\u001b[K\n"
     ]
    },
    {
     "name": "stderr",
     "output_type": "stream",
     "text": [
      "┌ Info: Solver: MLJLinearModels.LBFGS{Optim.Options{Float64, Nothing}, NamedTuple{(), Tuple{}}}\n",
      "│   optim_options: Optim.Options{Float64, Nothing}\n",
      "│   lbfgs_options: NamedTuple{(), Tuple{}} NamedTuple()\n",
      "└ @ MLJLinearModels /Users/essam/.julia/packages/MLJLinearModels/zSQnL/src/mlj/interface.jl:72\n"
     ]
    },
    {
     "data": {
      "text/plain": [
       "200-element CategoricalDistributions.UnivariateFiniteVector{Multiclass{3}, Int64, UInt32, Float64}:\n",
       " UnivariateFinite{Multiclass{3}}(0=>0.348, 1=>0.343, 2=>0.309)\n",
       " UnivariateFinite{Multiclass{3}}(0=>0.282, 1=>0.306, 2=>0.412)\n",
       " UnivariateFinite{Multiclass{3}}(0=>0.306, 1=>0.319, 2=>0.374)\n",
       " UnivariateFinite{Multiclass{3}}(0=>0.347, 1=>0.334, 2=>0.319)\n",
       " UnivariateFinite{Multiclass{3}}(0=>0.319, 1=>0.333, 2=>0.348)\n",
       " UnivariateFinite{Multiclass{3}}(0=>0.372, 1=>0.337, 2=>0.29)\n",
       " UnivariateFinite{Multiclass{3}}(0=>0.36, 1=>0.337, 2=>0.303)\n",
       " UnivariateFinite{Multiclass{3}}(0=>0.289, 1=>0.293, 2=>0.418)\n",
       " UnivariateFinite{Multiclass{3}}(0=>0.312, 1=>0.308, 2=>0.38)\n",
       " UnivariateFinite{Multiclass{3}}(0=>0.345, 1=>0.349, 2=>0.306)\n",
       " ⋮\n",
       " UnivariateFinite{Multiclass{3}}(0=>0.371, 1=>0.374, 2=>0.255)\n",
       " UnivariateFinite{Multiclass{3}}(0=>0.365, 1=>0.376, 2=>0.259)\n",
       " UnivariateFinite{Multiclass{3}}(0=>0.355, 1=>0.361, 2=>0.284)\n",
       " UnivariateFinite{Multiclass{3}}(0=>0.332, 1=>0.35, 2=>0.318)\n",
       " UnivariateFinite{Multiclass{3}}(0=>0.376, 1=>0.354, 2=>0.27)\n",
       " UnivariateFinite{Multiclass{3}}(0=>0.326, 1=>0.342, 2=>0.332)\n",
       " UnivariateFinite{Multiclass{3}}(0=>0.273, 1=>0.308, 2=>0.419)\n",
       " UnivariateFinite{Multiclass{3}}(0=>0.283, 1=>0.295, 2=>0.421)\n",
       " UnivariateFinite{Multiclass{3}}(0=>0.317, 1=>0.341, 2=>0.342)"
      ]
     },
     "metadata": {},
     "output_type": "display_data"
    }
   ],
   "source": [
    "mach = machine(balanced_model, X_train, y_train)\n",
    "fit!(mach)\n",
    "y_pred = predict(mach, X_test)"
   ]
  },
  {
   "cell_type": "markdown",
   "metadata": {},
   "source": [
    "#### You can even tune it if you wish"
   ]
  },
  {
   "cell_type": "code",
   "execution_count": null,
   "metadata": {},
   "outputs": [],
   "source": [
    "r1 = range(balanced_model, :(balancer1.ratios), lower=0.8, upper=1.0)\n",
    "r2 = range(balanced_model, :(balancer2.k), lower=3, upper=10)\n",
    "r3 = range(balanced_model, :(balancer3.s), lower=0.0, upper=0.5)\n",
    "\n",
    "tuned_balanced_model = TunedModel(model=balanced_model,\n",
    "\t\t\t\t\t\t\t\t\t  tuning=Grid(goal=4),\n",
    "\t\t\t\t\t\t\t\t\t  resampling=CV(nfolds=4),\n",
    "\t\t\t\t\t\t\t\t\t  range=[r1, r2, r3],\n",
    "\t\t\t\t\t\t\t\t\t  measure=cross_entropy);\n",
    "\n",
    "mach = machine(tuned_balanced_model, X, y);\n",
    "fit!(mach, verbosity=0);"
   ]
  },
  {
   "cell_type": "code",
   "execution_count": 9,
   "metadata": {},
   "outputs": [
    {
     "data": {
      "text/plain": [
       "BalancedModelProbabilistic(\n",
       "  model = LogisticClassifier(\n",
       "        lambda = 2.220446049250313e-16, \n",
       "        gamma = 0.0, \n",
       "        penalty = :l2, \n",
       "        fit_intercept = true, \n",
       "        penalize_intercept = false, \n",
       "        scale_penalty_with_samples = true, \n",
       "        solver = nothing), \n",
       "  balancer1 = RandomOversampler(\n",
       "        ratios = 0.8, \n",
       "        rng = 42, \n",
       "        try_perserve_type = true), \n",
       "  balancer2 = SMOTENC(\n",
       "        k = 10, \n",
       "        ratios = 1.2, \n",
       "        rng = 42, \n",
       "        try_perserve_type = true), \n",
       "  balancer3 = ROSE(\n",
       "        s = 0.5, \n",
       "        ratios = 1.3, \n",
       "        rng = 42, \n",
       "        try_perserve_type = true))"
      ]
     },
     "metadata": {},
     "output_type": "display_data"
    }
   ],
   "source": [
    "fitted_params(mach).best_model"
   ]
  }
 ],
 "metadata": {
  "kernelspec": {
   "display_name": "Julia 1.8.5",
   "language": "julia",
   "name": "julia-1.8"
  },
  "language_info": {
   "file_extension": ".jl",
   "mimetype": "application/julia",
   "name": "julia",
   "version": "1.8.5"
  },
  "orig_nbformat": 4
 },
 "nbformat": 4,
 "nbformat_minor": 2
}
